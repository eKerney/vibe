{
 "cells": [
  {
   "cell_type": "markdown",
   "metadata": {},
   "source": [
    "# LinkedIn Feed Scraper\n",
    "\n",
    "This notebook scrapes your LinkedIn feed for posts containing specific keywords. \n",
    "\n",
    "**Disclaimer:** Scraping LinkedIn is against their User Agreement. Use this tool responsibly and at your own risk. Your account may be temporarily or permanently suspended."
   ]
  },
  {
   "cell_type": "markdown",
   "metadata": {},
   "source": [
    "## 1. Setup\n",
    "\n",
    "Install the required libraries by running the following command in your terminal:\n",
    "\n",
    "```bash\n",
    "pip install -r requirements.txt\n",
    "```"
   ]
  },
  {
   "cell_type": "markdown",
   "metadata": {},
   "source": [
    "## 2. Imports"
   ]
  },
  {
   "cell_type": "code",
   "execution_count": null,
   "metadata": {},
   "outputs": [],
   "source": [
    "import os\n",
    "import time\n",
    "import pandas as pd\n",
    "from selenium import webdriver\n",
    "from selenium.webdriver.common.by import By\n",
    "from selenium.webdriver.chrome.service import Service\n",
    "from webdriver_manager.chrome import ChromeDriverManager\n",
    "from bs4 import BeautifulSoup"
   ]
  },
  {
   "cell_type": "markdown",
   "metadata": {},
   "source": [
    "## 3. Configuration\n",
    "\n",
    "**Important:** For security reasons, it is highly recommended to set your LinkedIn credentials as environment variables rather than hardcoding them in the notebook. \n",
    "\n",
    "You can set environment variables in your terminal like this:\n",
    "\n",
    "```bash\n",
    "export LINKEDIN_EMAIL='your_email@example.com'\n",
    "export LINKEDIN_PASSWORD='your_password'\n",
    "```"
   ]
  },
  {
   "cell_type": "code",
   "execution_count": null,
   "metadata": {},
   "outputs": [],
   "source": [
    "LINKEDIN_EMAIL = os.environ.get('LINKEDIN_EMAIL')\n",
    "LINKEDIN_PASSWORD = os.environ.get('LINKEDIN_PASSWORD')\n",
    "\n",
    "# Keywords to search for in the posts\n",
    "KEYWORDS = ['Geospatial', 'Earth Observation', 'Autonomous vehicles', 'Remote Sensing', 'GeospatialAI']\n",
    "\n",
    "# Number of times to scroll down the feed to load more posts\n",
    "SCROLLS = 5"
   ]
  },
  {
   "cell_type": "markdown",
   "metadata": {},
   "source": [
    "## 4. Initialize WebDriver"
   ]
  },
  {
   "cell_type": "code",
   "execution_count": null,
   "metadata": {},
   "outputs": [],
   "source": [
    "service = Service(ChromeDriverManager().install())\n",
    "driver = webdriver.Chrome(service=service)"
   ]
  },
  {
   "cell_type": "markdown",
   "metadata": {},
   "source": [
    "## 5. Login to LinkedIn"
   ]
  },
  {
   "cell_type": "code",
   "execution_count": null,
   "metadata": {},
   "outputs": [],
   "source": [
    "def login_to_linkedin(driver, email, password):\n",
    "    driver.get('https://www.linkedin.com/login')\n",
    "    time.sleep(2)\n",
    "    driver.find_element(By.ID, 'username').send_keys(email)\n",
    "    driver.find_element(By.ID, 'password').send_keys(password)\n",
    "    driver.find_element(By.XPATH, \"//button[@type='submit']\").click()\n",
    "    time.sleep(5) # Wait for the feed to load"
   ]
  },
  {
   "cell_type": "markdown",
   "metadata": {},
   "source": [
    "## 6. Scrape the Feed"
   ]
  },
  {
   "cell_type": "code",
   "execution_count": null,
   "metadata": {},
   "outputs": [],
   "source": [
    "def scrape_feed(driver, keywords, scrolls):\n",
    "    posts_data = []\n",
    "    for _ in range(scrolls):\n",
    "        driver.execute_script('window.scrollTo(0, document.body.scrollHeight);')\n",
    "        time.sleep(3) # Wait for new posts to load\n",
    "\n",
    "    soup = BeautifulSoup(driver.page_source, 'html.parser')\n",
    "    # Note: These selectors might change over time. You may need to inspect the page and update them.\n",
    "    posts = soup.find_all('div', {'class': 'feed-shared-update-v2'})\n",
    "\n",
    "    for post in posts:\n",
    "        post_text = post.get_text()\n",
    "        if any(keyword.lower() in post_text.lower() for keyword in keywords):\n",
    "            try:\n",
    "                author = post.find('span', {'class': 'feed-shared-actor__name'}).get_text().strip()\n",
    "                content = post.find('div', {'class': 'feed-shared-update-v2__description-wrapper'}).get_text().strip()\n",
    "                posts_data.append({'author': author, 'content': content, 'raw_html': str(post)})\n",
    "            except AttributeError:\n",
    "                # Skip posts that don't have the expected structure\n",
    "                continue\n",
    "    return pd.DataFrame(posts_data)"
   ]
  },
  {
   "cell_type": "markdown",
   "metadata": {},
   "source": [
    "## 7. Main Execution"
   ]
  },
  {
   "cell_type": "code",
   "execution_count": null,
   "metadata": {},
   "outputs": [],
   "source": [
    "if LINKEDIN_EMAIL and LINKEDIN_PASSWORD:\n",
    "    login_to_linkedin(driver, LINKEDIN_EMAIL, LINKEDIN_PASSWORD)\n",
    "    df = scrape_feed(driver, KEYWORDS, SCROLLS)\n",
    "    \n",
    "    if not df.empty:\n",
    "        print(f'Found {len(df)} posts matching your keywords.')\n",
    "        # Save the data to a CSV file\n",
    "        df.to_csv('linkedin_posts.csv', index=False)\n",
    "        print('Data saved to linkedin_posts.csv')\n",
    "        print(df.head())\n",
    "    else:\n",
    "        print('No posts found matching your keywords.')\n",
    "else:\n",
    "    print('Please set your LINKEDIN_EMAIL and LINKEDIN_PASSWORD environment variables.')"
   ]
  },
  {
   "cell_type": "markdown",
   "metadata": {},
   "source": [
    "## 8. Close the WebDriver"
   ]
  },
  {
   "cell_type": "code",
   "execution_count": null,
   "metadata": {},
   "outputs": [],
   "source": [
    "driver.quit()"
   ]
  }
 ],
 "metadata": {
  "kernelspec": {
   "display_name": ".venv (3.11.4)",
   "language": "python",
   "name": "python3"
  },
  "language_info": {
   "codemirror_mode": {
    "name": "ipython",
    "version": 3
   },
   "file_extension": ".py",
   "mimetype": "text/x-python",
   "name": "python",
   "nbconvert_exporter": "python",
   "pygments_lexer": "ipython3",
   "version": "3.11.4"
  }
 },
 "nbformat": 4,
 "nbformat_minor": 4
}
